{
 "cells": [
  {
   "cell_type": "markdown",
   "id": "ba2dd464",
   "metadata": {},
   "source": [
    "<img src=\"./logo-utn-frba.png\" align=\"right\" width=\"150\" />\n",
    "<p style=\" font-family: Courier New,Courier,Lucida Sans Typewriter,Lucida Typewriter,monospace; text-align: left;\"><font color='black'>David Ochoa Cruz</font></p>"
   ]
  },
  {
   "cell_type": "code",
   "execution_count": null,
   "id": "4c7c0e08",
   "metadata": {},
   "outputs": [],
   "source": []
  }
 ],
 "metadata": {
  "kernelspec": {
   "display_name": "Python 3 (ipykernel)",
   "language": "python",
   "name": "python3"
  },
  "language_info": {
   "codemirror_mode": {
    "name": "ipython",
    "version": 3
   },
   "file_extension": ".py",
   "mimetype": "text/x-python",
   "name": "python",
   "nbconvert_exporter": "python",
   "pygments_lexer": "ipython3",
   "version": "3.8.10"
  }
 },
 "nbformat": 4,
 "nbformat_minor": 5
}
