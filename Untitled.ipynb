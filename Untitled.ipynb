{
 "cells": [
  {
   "cell_type": "markdown",
   "id": "289e15d6",
   "metadata": {},
   "source": [
    "<img src=\"./logo-utn-frba.png\" align=\"right\" width=\"150\" />\n",
    "<p style=\" font-family: Courier New,Courier,Lucida Sans Typewriter,Lucida Typewriter,monospace; text-align: left;\"><font color='black'>David Ochoa Cruz</font></p>"
   ]
  },
  {
   "cell_type": "markdown",
   "id": "a937aced",
   "metadata": {},
   "source": [
    "<h1 style=\" font-weight: courier,arial,helvética; text-align: center;\"><font color='FF6347'>Laboratorio de filtros digitales</font></h1>\n",
    "<p style=\" font-weight: italic;\"><font color='87CEFA'>Laboratorio de filtros digitales: Mitigación de Interferencias en el Electrocardiograma durante la Prueba de Esfuerzo:</font></p>"
   ]
  },
  {
   "cell_type": "code",
   "execution_count": null,
   "id": "08d1e3e3",
   "metadata": {},
   "outputs": [],
   "source": []
  }
 ],
 "metadata": {
  "kernelspec": {
   "display_name": "Python 3 (ipykernel)",
   "language": "python",
   "name": "python3"
  },
  "language_info": {
   "codemirror_mode": {
    "name": "ipython",
    "version": 3
   },
   "file_extension": ".py",
   "mimetype": "text/x-python",
   "name": "python",
   "nbconvert_exporter": "python",
   "pygments_lexer": "ipython3",
   "version": "3.8.10"
  }
 },
 "nbformat": 4,
 "nbformat_minor": 5
}
